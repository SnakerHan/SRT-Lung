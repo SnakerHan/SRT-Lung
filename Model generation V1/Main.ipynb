{
 "cells": [
  {
   "cell_type": "code",
   "execution_count": 2,
   "id": "b73d6374-7326-452b-bbe6-b9e5a142a47e",
   "metadata": {
    "tags": []
   },
   "outputs": [
    {
     "data": {
      "text/plain": [
       "'\\nplt.figure(figsize=(8, 6))\\nplt.imshow(dst,cmap=\\'gray\\')\\nplt.axis(\"off\")\\ncv2.imwrite(\"pic_over/\"+str(i)+\".jpg\",dst)\\nplt.show()\\n'"
      ]
     },
     "execution_count": 2,
     "metadata": {},
     "output_type": "execute_result"
    }
   ],
   "source": [
    "#1、病理切片二值化\n",
    "import cv2\n",
    "import matplotlib.pyplot as plt\n",
    "import matplotlib\n",
    "import numpy as np\n",
    "import glob, os\n",
    "files = \"pic_initial/20.jpg\"\n",
    "img = cv2.imread(files, 0)\n",
    "ret2, mask_OTSU = cv2.threshold(img, 0, 255, cv2.THRESH_BINARY + cv2.THRESH_OTSU)\n",
    "kernel_size = (1,1) #可调参\n",
    "img = cv2.blur(mask_OTSU, kernel_size)\n",
    "ret2, mask_OTSU = cv2.threshold(img, 0, 255, cv2.THRESH_BINARY + cv2.THRESH_OTSU)\n",
    "img = cv2.blur(mask_OTSU, kernel_size)\n",
    "ret2, mask_OTSU = cv2.threshold(img, 0, 255, cv2.THRESH_BINARY + cv2.THRESH_OTSU)\n",
    "#设置卷积核\n",
    "kernel = np.ones((1,1), np.uint8) #可调参\n",
    "dst = cv2.morphologyEx(mask_OTSU, cv2.MORPH_OPEN, kernel)\n",
    "cv2.imwrite(\"pic_over/20.jpg\",dst)\n",
    "#绘制查看效果\n",
    "'''\n",
    "plt.figure(figsize=(8, 6))\n",
    "plt.imshow(dst,cmap='gray')\n",
    "plt.axis(\"off\")\n",
    "cv2.imwrite(\"pic_over/\"+str(i)+\".jpg\",dst)\n",
    "plt.show()\n",
    "'''"
   ]
  },
  {
   "cell_type": "code",
   "execution_count": 4,
   "id": "50efa241",
   "metadata": {},
   "outputs": [],
   "source": [
    "#2、二值图调整大小并读取\n",
    "from PIL import Image\n",
    "import glob, os\n",
    "\n",
    "size = [650, 650]\n",
    "file, ext = os.path.splitext(files)\n",
    "im = Image.open(files)\n",
    "im.thumbnail(size)\n",
    "im.save(file + \".jpg\", \"JPEG\")\n",
    "dst = cv2.imread(files, 0)"
   ]
  },
  {
   "cell_type": "code",
   "execution_count": 7,
   "id": "f396f7da",
   "metadata": {},
   "outputs": [],
   "source": [
    "#定义旋转操作\n",
    "def rotate(image, angle, center=None, scale=1.0):\n",
    "    # grab the dimensions of the image\n",
    "    (h, w) = image.shape[:2]\n",
    "\n",
    "    # if the center is None, initialize it as the center of\n",
    "    # the image\n",
    "    if center is None:\n",
    "        center = (w // 2, h // 2)\n",
    "\n",
    "    # perform the rotation\n",
    "    M = cv2.getRotationMatrix2D(center, angle, scale)\n",
    "    rotated = cv2.warpAffine(image, M, (w, h))\n",
    "\n",
    "    # return the rotated image\n",
    "    return rotated"
   ]
  },
  {
   "cell_type": "code",
   "execution_count": 8,
   "id": "ac17ab52",
   "metadata": {},
   "outputs": [],
   "source": [
    "#3、分别获得旋转90°、180°、270°的二值图\n",
    "dst1=rotate(dst,90)\n",
    "dst2=rotate(dst,180)\n",
    "dst3=rotate(dst,270)"
   ]
  },
  {
   "cell_type": "code",
   "execution_count": 9,
   "id": "88bd4026",
   "metadata": {},
   "outputs": [],
   "source": [
    "#4、将二值图随机进行拼接\n",
    "dst_ = np.concatenate((dst1,dst1,dst3,dst,dst2,dst3,dst,dst1,dst2,dst1,dst,dst3), axis=1)\n",
    "dst_2 = np.concatenate((dst1,dst3,dst,dst,dst3,dst3,dst2,dst2,dst,dst,dst,dst1), axis=1)\n",
    "dst_3 = np.concatenate((dst2,dst,dst1,dst2,dst2,dst1,dst2,dst1,dst2,dst,dst,dst2), axis=1)\n",
    "dst_4= np.concatenate((dst2,dst3,dst,dst,dst3,dst3,dst,dst,dst,dst,dst,dst2), axis=1)\n",
    "dst_5= np.concatenate((dst,dst2,dst2,dst1,dst3,dst3,dst,dst,dst,dst,dst,dst3), axis=1)\n",
    "dst__= np.concatenate((dst_,dst_2,dst_3,dst_4,dst_5), axis=0)\n",
    "dst6=np.transpose(dst__)\n",
    "#绘制查看效果\n",
    "'''\n",
    "plt.imshow(dst6,cmap='gray')\n",
    "plt.axis(\"off\")\n",
    "plt.show()\n",
    "'''"
   ]
  },
  {
   "cell_type": "code",
   "execution_count": 17,
   "id": "b7940a18",
   "metadata": {},
   "outputs": [],
   "source": [
    "#5、将二值图0，255转换为0，1，并翻转颜色。\n",
    "dst6 = dst6.astype(np.double) / 255\n",
    "where_0 = np.where(dst6 == 0)\n",
    "where_1 = np.where(dst6 == 1)\n",
    "dst6[where_0] = 1\n",
    "dst6[where_1] = 0"
   ]
  },
  {
   "cell_type": "code",
   "execution_count": 20,
   "id": "c2791972",
   "metadata": {},
   "outputs": [],
   "source": [
    "#6、设置参数\n",
    "num=250  #通过Parameter extraction获得的肺泡个数\n",
    "dx=num*12*5/1500/len(dst[0])/len(dst)/10000"
   ]
  },
  {
   "cell_type": "code",
   "execution_count": 22,
   "id": "4a3b1016",
   "metadata": {},
   "outputs": [],
   "source": [
    "#7、获得 mat格式的模体\n",
    "from scipy.io import savemat\n",
    "a_dict = {'phantom': dst6, 'dx': np.sqrt(dx)}\n",
    "savemat('E001_disturbed.mat', {'phant': a_dict})"
   ]
  }
 ],
 "metadata": {
  "kernelspec": {
   "display_name": "Python 3 (ipykernel)",
   "language": "python",
   "name": "python3"
  },
  "language_info": {
   "codemirror_mode": {
    "name": "ipython",
    "version": 3
   },
   "file_extension": ".py",
   "mimetype": "text/x-python",
   "name": "python",
   "nbconvert_exporter": "python",
   "pygments_lexer": "ipython3",
   "version": "3.9.13"
  }
 },
 "nbformat": 4,
 "nbformat_minor": 5
}
